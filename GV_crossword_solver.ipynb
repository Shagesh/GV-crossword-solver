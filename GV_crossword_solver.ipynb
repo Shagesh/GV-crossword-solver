{
  "nbformat": 4,
  "nbformat_minor": 0,
  "metadata": {
    "colab": {
      "name": "Untitled",
      "provenance": []
    },
    "kernelspec": {
      "name": "python3",
      "display_name": "Python 3"
    }
  },
  "cells": [
    {
      "cell_type": "code",
      "metadata": {
        "id": "ps7KMpRl26Jj",
        "colab_type": "code",
        "colab": {}
      },
      "source": [
        "from bs4 import BeautifulSoup\n",
        "from urllib.request import urlopen\n",
        "import functools\n",
        "import numpy as np"
      ],
      "execution_count": 126,
      "outputs": []
    },
    {
      "cell_type": "code",
      "metadata": {
        "id": "3QU3C8E9EnpP",
        "colab_type": "code",
        "colab": {
          "base_uri": "https://localhost:8080/",
          "height": 190
        },
        "outputId": "fe7add64-f1c3-43bf-95d0-8f4b3ecdd5f7"
      },
      "source": [
        "!pip install MechanicalSoup\n",
        "import mechanicalsoup"
      ],
      "execution_count": 127,
      "outputs": [
        {
          "output_type": "stream",
          "text": [
            "Requirement already satisfied: MechanicalSoup in /usr/local/lib/python3.6/dist-packages (0.12.0)\n",
            "Requirement already satisfied: beautifulsoup4>=4.4 in /usr/local/lib/python3.6/dist-packages (from MechanicalSoup) (4.6.3)\n",
            "Requirement already satisfied: six>=1.4 in /usr/local/lib/python3.6/dist-packages (from MechanicalSoup) (1.15.0)\n",
            "Requirement already satisfied: lxml in /usr/local/lib/python3.6/dist-packages (from MechanicalSoup) (4.2.6)\n",
            "Requirement already satisfied: requests>=2.0 in /usr/local/lib/python3.6/dist-packages (from MechanicalSoup) (2.23.0)\n",
            "Requirement already satisfied: chardet<4,>=3.0.2 in /usr/local/lib/python3.6/dist-packages (from requests>=2.0->MechanicalSoup) (3.0.4)\n",
            "Requirement already satisfied: certifi>=2017.4.17 in /usr/local/lib/python3.6/dist-packages (from requests>=2.0->MechanicalSoup) (2020.6.20)\n",
            "Requirement already satisfied: urllib3!=1.25.0,!=1.25.1,<1.26,>=1.21.1 in /usr/local/lib/python3.6/dist-packages (from requests>=2.0->MechanicalSoup) (1.24.3)\n",
            "Requirement already satisfied: idna<3,>=2.5 in /usr/local/lib/python3.6/dist-packages (from requests>=2.0->MechanicalSoup) (2.10)\n"
          ],
          "name": "stdout"
        }
      ]
    },
    {
      "cell_type": "code",
      "metadata": {
        "id": "BwPpUYe_EkP5",
        "colab_type": "code",
        "colab": {
          "base_uri": "https://localhost:8080/",
          "height": 34
        },
        "outputId": "1f83d3d3-4bf4-4e66-e8bb-a7c661fe77eb"
      },
      "source": [
        "browser = mechanicalsoup.StatefulBrowser()\n",
        "browser.open(\"https://godvillegame.com/\")\n",
        "browser.select_form('form[action=\"/login/login\"]')\n",
        "browser[\"username\"] = \"Go24yWnHZ77wL2\"\n",
        "browser[\"password\"] = \"go24yWnHZ77wL2\"\n",
        "response = browser.submit_selected()\n",
        "browser.follow_link(\"news\")"
      ],
      "execution_count": 155,
      "outputs": [
        {
          "output_type": "execute_result",
          "data": {
            "text/plain": [
              "<Response [200]>"
            ]
          },
          "metadata": {
            "tags": []
          },
          "execution_count": 155
        }
      ]
    },
    {
      "cell_type": "code",
      "metadata": {
        "id": "hmkGI9j_nta5",
        "colab_type": "code",
        "colab": {}
      },
      "source": [
        "soup = browser.get_current_page()\n",
        "#link = urlopen('https://godvillegame.com/news').read()    \n",
        "#soup = BeautifulSoup(html_doc, 'html.parser')\n",
        "\n",
        "#print(soup.prettify())"
      ],
      "execution_count": 156,
      "outputs": []
    },
    {
      "cell_type": "code",
      "metadata": {
        "id": "hgUZtjwv2uxf",
        "colab_type": "code",
        "colab": {}
      },
      "source": [
        "across_comingup = 0\n",
        "down_comingup = 0\n",
        "word_incoming = 0\n",
        "word_index_across = []\n",
        "word_index_down = []\n",
        "for string in soup.find(\"div\", attrs={\"class\": \"cross_q\"}).stripped_strings:\n",
        "  line = repr(string)\n",
        "  line = line.replace('\\\\t', '')\n",
        "  line = line.replace('\\\\n', ' ')\n",
        "  line = line.replace('&nbsp', ' ')\n",
        "  line = line.replace('.', '')\n",
        "  line = line.replace('\\'', '')\n",
        "  if across_comingup:\n",
        "    splitted = line.split()\n",
        "    iter_number = len(splitted)\n",
        "    for i in range(iter_number):\n",
        "      if word_incoming:\n",
        "        word_incoming = 0\n",
        "      if splitted[i].isdigit():\n",
        "        word_index_across.append(int(splitted[i]))\n",
        "        word_incoming = 1  \n",
        "  if down_comingup:\n",
        "    splitted = line.split()\n",
        "    iter_number = len(splitted)\n",
        "    for i in range(iter_number):\n",
        "      if word_incoming:\n",
        "        word_incoming = 0\n",
        "      if splitted[i].isdigit():\n",
        "        word_index_down.append(int(splitted[i]))\n",
        "        word_incoming = 1  \n",
        "  if line == \"Across:\":\n",
        "    across_comingup = 1\n",
        "  elif line == \"Down:\":\n",
        "    across_comingup = 0\n",
        "    down_comingup = 1"
      ],
      "execution_count": 157,
      "outputs": []
    },
    {
      "cell_type": "code",
      "metadata": {
        "id": "2WxF_pLauzL4",
        "colab_type": "code",
        "colab": {
          "base_uri": "https://localhost:8080/",
          "height": 34
        },
        "outputId": "fc216e24-fd0e-4e6d-cf1d-58bc9ffd4f54"
      },
      "source": [
        "across_words = [[] for i in range(len(word_index_across))]\n",
        "down_words = [[] for i in range(len(word_index_down))]\n",
        "list_of_unfilled_letter_positions = [[]]\n",
        "counter = 0\n",
        "for unknown_letters in soup.find_all(\"input\", attrs={\"autocomplete\":\"off\"}):\n",
        "  line = unknown_letters['aria-label']\n",
        "  line = line.replace(',', '')\n",
        "  line = line.replace('.', ' .')\n",
        "  splitted = line.split()\n",
        "  #print(splitted)\n",
        "  if (splitted[1] == 'down'):\n",
        "    down_words[word_index_down.index(int(splitted[0]))].append([])\n",
        "    list_of_unfilled_letter_positions[counter].append(1)\n",
        "    list_of_unfilled_letter_positions[counter].append(word_index_down.index(int(splitted[0])))\n",
        "    list_of_unfilled_letter_positions[counter].append(int(splitted[splitted.index('letter') + 1]))\n",
        "    list_of_unfilled_letter_positions[counter].append(unknown_letters['name'])\n",
        "  if (splitted[1] == 'across'):\n",
        "    across_words[word_index_across.index(int(splitted[0]))].append([])\n",
        "    list_of_unfilled_letter_positions[counter].append(0)\n",
        "    list_of_unfilled_letter_positions[counter].append(word_index_across.index(int(splitted[0])))\n",
        "    list_of_unfilled_letter_positions[counter].append(int(splitted[splitted.index('letter') + 1]))\n",
        "    list_of_unfilled_letter_positions[counter].append(unknown_letters['name'])\n",
        "  if '.' in splitted :\n",
        "    shifted_index = splitted.index('.') + 1\n",
        "    counter += 1\n",
        "    list_of_unfilled_letter_positions.append([])\n",
        "    if (splitted[shifted_index + 1] == 'down'):\n",
        "      down_words[word_index_down.index(int(splitted[shifted_index + 0]))].append([])\n",
        "      list_of_unfilled_letter_positions[counter].append(1)\n",
        "      list_of_unfilled_letter_positions[counter].append(word_index_down.index(int(splitted[shifted_index + 0])))\n",
        "      list_of_unfilled_letter_positions[counter].append(int(splitted[splitted[shifted_index:].index('letter') + 1 + shifted_index]))\n",
        "      list_of_unfilled_letter_positions[counter].append(unknown_letters['name'])\n",
        "    if (splitted[shifted_index + 1] == 'across'):\n",
        "      across_words[word_index_across.index(int(splitted[shifted_index + 0]))].append([])\n",
        "      list_of_unfilled_letter_positions[counter].append(0)\n",
        "      list_of_unfilled_letter_positions[counter].append(word_index_across.index(int(splitted[shifted_index + 0])))\n",
        "      list_of_unfilled_letter_positions[counter].append(int(splitted[splitted[shifted_index:].index('letter') + 1 + shifted_index]))\n",
        "      list_of_unfilled_letter_positions[counter].append(unknown_letters['name'])\n",
        "  counter += 1\n",
        "  list_of_unfilled_letter_positions.append([])\n",
        "list_of_unfilled_letter_positions.pop()"
      ],
      "execution_count": 158,
      "outputs": [
        {
          "output_type": "execute_result",
          "data": {
            "text/plain": [
              "[]"
            ]
          },
          "metadata": {
            "tags": []
          },
          "execution_count": 158
        }
      ]
    },
    {
      "cell_type": "code",
      "metadata": {
        "id": "TUjrHqnpp5vd",
        "colab_type": "code",
        "colab": {}
      },
      "source": [
        "for unknown_letters in soup.find_all(\"div\", attrs={\"class\": \"open\"}):\n",
        "  line = unknown_letters['aria-label']\n",
        "  line = line.replace(',', '')\n",
        "  line = line.replace('-', '')\n",
        "  splitted = line.split()\n",
        "  #print(splitted)\n",
        "  if (splitted[1] == 'down'):\n",
        "    down_words[word_index_down.index(int(splitted[0]))].append([])\n",
        "  if (splitted[1] == 'across'):\n",
        "    across_words[word_index_across.index(int(splitted[0]))].append([])"
      ],
      "execution_count": 159,
      "outputs": []
    },
    {
      "cell_type": "code",
      "metadata": {
        "id": "z9Z_BfSYhpDK",
        "colab_type": "code",
        "colab": {}
      },
      "source": [
        "for unknown_letters in soup.find_all(\"div\", attrs={\"class\": \"open\"}):\n",
        "  line = unknown_letters['aria-label']\n",
        "  line = line.replace(',', '')\n",
        "  line = line.replace('-', '')\n",
        "  splitted = line.split()\n",
        "  #print(splitted)\n",
        "  if splitted[-1].isdigit(): \n",
        "    if (splitted[1] == 'down'):\n",
        "      down_words[word_index_down.index(int(splitted[0]))][int(splitted[splitted.index(\"letter\") + 1]) - 1] = ' '\n",
        "    elif (splitted[1] == 'across'):\n",
        "      across_words[word_index_across.index(int(splitted[0]))][int(splitted[splitted.index(\"letter\") + 1]) - 1] = ' '\n",
        "  else:\n",
        "    if (splitted[1] == 'down'):\n",
        "      down_words[word_index_down.index(int(splitted[0]))][int(splitted[splitted.index(\"letter\") + 1]) - 1] = splitted[-1]\n",
        "    elif (splitted[1] == 'across'):\n",
        "      across_words[word_index_across.index(int(splitted[0]))][int(splitted[splitted.index(\"letter\") + 1]) - 1] = splitted[-1]"
      ],
      "execution_count": 160,
      "outputs": []
    },
    {
      "cell_type": "code",
      "metadata": {
        "id": "lNK4F-qZom9v",
        "colab_type": "code",
        "colab": {}
      },
      "source": [
        "link_solution = urlopen('https://wiki.godvillegame.com/Omnibus_List').read()    \n",
        "soup_solution = BeautifulSoup(link_solution, 'html.parser')\n",
        "\n",
        "#print(soup_solution.prettify())"
      ],
      "execution_count": 161,
      "outputs": []
    },
    {
      "cell_type": "code",
      "metadata": {
        "id": "5-WHfQCDm9Ir",
        "colab_type": "code",
        "colab": {
          "base_uri": "https://localhost:8080/",
          "height": 187
        },
        "outputId": "7d9484b7-962e-4dd6-c653-005258a50b99"
      },
      "source": [
        "across_solution = [[] for i in range(len(word_index_across))]\n",
        "down_solution = [[] for i in range(len(word_index_down))]\n",
        "for i in range(len(across_words)):\n",
        "  l_test = across_words[i]\n",
        "  for string in soup_solution.find_all(\"li\"):\n",
        "    line = list(string.text.upper())\n",
        "    count = np.where([ x == y for x, y in zip(line, l_test) ])[0].size\n",
        "    if count == len(np.where([x != [] for x in l_test])[0]):\n",
        "      print(line)\n",
        "      across_solution[i] = line\n",
        "for i in range(len(down_words)):\n",
        "  l_test = down_words[i]\n",
        "  for string in soup_solution.find_all(\"li\"):\n",
        "    line = list(string.text.upper())\n",
        "    count = np.where([ x == y for x, y in zip(line, l_test) ])[0].size\n",
        "    if count == len(np.where([x != [] for x in l_test])[0]) and len(line) == len(l_test):\n",
        "      print(line)\n",
        "      down_solution[i] = line"
      ],
      "execution_count": 162,
      "outputs": [
        {
          "output_type": "stream",
          "text": [
            "['N', 'O', 'N', 'D', 'E', 'S', 'C', 'R', 'I', 'P', 'T', ' ', 'V', 'I', 'L', 'L', 'A', 'I', 'N']\n",
            "['M', 'I', 'N', 'T', '-', 'C', 'O', 'N', 'D', 'I', 'T', 'I', 'O', 'N', ' ', 'M', 'I', 'N', 'T']\n",
            "['M', 'A', 'L', 'N', 'U', 'T', 'R', 'I', 'T', 'I', 'O', 'N', ' ', 'S', 'U', 'P', 'P', 'L', 'E', 'M', 'E', 'N', 'T']\n",
            "['T', 'E', 'M', 'P', 'L', 'E', ' ', 'S', 'A', 'F', 'E', 'T', 'Y', ' ', 'I', 'N', 'S', 'P', 'E', 'C', 'T', 'O', 'R']\n",
            "['I', 'N', 'D', 'I', 'F', 'F', 'E', 'R', 'E', 'N', 'C', 'E', ' ', 'E', 'N', 'G', 'I', 'N', 'E']\n",
            "['S', 'U', 'P', 'E', 'R', 'S', 'O', 'N', 'I', 'C', ' ', 'H', 'E', 'D', 'G', 'E', 'H', 'O', 'G']\n",
            "['P', 'S', 'I', 'O', 'N', 'I', 'C', ' ', 'T', 'O', 'N', 'I', 'C']\n",
            "['R', 'O', 'O', 'T', 'B', 'E', 'A', 'R']\n",
            "['J', 'A', 'N', 'I', 'T', 'A', 'U', 'R']\n",
            "['M', 'I', 'N', 'I', 'T', 'A', 'U', 'R']\n"
          ],
          "name": "stdout"
        }
      ]
    },
    {
      "cell_type": "code",
      "metadata": {
        "id": "pTO3izWnGBp1",
        "colab_type": "code",
        "colab": {
          "base_uri": "https://localhost:8080/",
          "height": 71
        },
        "outputId": "6a9c47ad-90e4-4ced-b2bc-8c28008fec98"
      },
      "source": [
        "print(browser.get_url())\n",
        "browser.select_form()"
      ],
      "execution_count": 167,
      "outputs": [
        {
          "output_type": "stream",
          "text": [
            "https://godvillegame.com/news?c%5B2%5D%5B0%5D=N&c%5B3%5D%5B0%5D=O&c%5B4%5D%5B0%5D=N&c%5B5%5D%5B0%5D=D&c%5B6%5D%5B0%5D=E&c%5B7%5D%5B0%5D=S&c%5B8%5D%5B0%5D=C&c%5B9%5D%5B0%5D=R&c%5B10%5D%5B0%5D=I&c%5B11%5D%5B0%5D=P&c%5B12%5D%5B0%5D=T&c%5B13%5D%5B0%5D=+&c%5B14%5D%5B0%5D=V&c%5B15%5D%5B0%5D=I&c%5B16%5D%5B0%5D=L&c%5B17%5D%5B0%5D=L&c%5B18%5D%5B0%5D=A&c%5B19%5D%5B0%5D=I&c%5B20%5D%5B0%5D=N&c%5B11%5D%5B1%5D=S&c%5B22%5D%5B1%5D=R&c%5B2%5D%5B2%5D=M&c%5B3%5D%5B2%5D=I&c%5B4%5D%5B2%5D=N&c%5B5%5D%5B2%5D=T&c%5B6%5D%5B2%5D=-&c%5B7%5D%5B2%5D=C&c%5B8%5D%5B2%5D=O&c%5B9%5D%5B2%5D=N&c%5B10%5D%5B2%5D=D&c%5B11%5D%5B2%5D=I&c%5B12%5D%5B2%5D=T&c%5B13%5D%5B2%5D=I&c%5B14%5D%5B2%5D=O&c%5B15%5D%5B2%5D=N&c%5B16%5D%5B2%5D=+&c%5B17%5D%5B2%5D=M&c%5B18%5D%5B2%5D=I&c%5B19%5D%5B2%5D=N&c%5B20%5D%5B2%5D=T&c%5B22%5D%5B2%5D=O&c%5B11%5D%5B3%5D=O&c%5B22%5D%5B3%5D=O&c%5B0%5D%5B4%5D=M&c%5B1%5D%5B4%5D=A&c%5B2%5D%5B4%5D=L&c%5B3%5D%5B4%5D=N&c%5B4%5D%5B4%5D=U&c%5B5%5D%5B4%5D=T&c%5B6%5D%5B4%5D=R&c%5B7%5D%5B4%5D=I&c%5B8%5D%5B4%5D=T&c%5B9%5D%5B4%5D=I&c%5B10%5D%5B4%5D=O&c%5B11%5D%5B4%5D=N&c%5B12%5D%5B4%5D=+&c%5B13%5D%5B4%5D=S&c%5B14%5D%5B4%5D=U&c%5B15%5D%5B4%5D=P&c%5B16%5D%5B4%5D=P&c%5B17%5D%5B4%5D=L&c%5B18%5D%5B4%5D=E&c%5B19%5D%5B4%5D=M&c%5B20%5D%5B4%5D=E&c%5B21%5D%5B4%5D=N&c%5B22%5D%5B4%5D=T&c%5B0%5D%5B5%5D=I&c%5B11%5D%5B5%5D=I&c%5B22%5D%5B5%5D=B&c%5B0%5D%5B6%5D=N&c%5B11%5D%5B6%5D=C&c%5B22%5D%5B6%5D=E&c%5B0%5D%5B7%5D=I&c%5B11%5D%5B7%5D=+&c%5B22%5D%5B7%5D=A&c%5B0%5D%5B8%5D=T&c%5B1%5D%5B8%5D=E&c%5B2%5D%5B8%5D=M&c%5B3%5D%5B8%5D=P&c%5B4%5D%5B8%5D=L&c%5B5%5D%5B8%5D=E&c%5B6%5D%5B8%5D=+&c%5B7%5D%5B8%5D=S&c%5B8%5D%5B8%5D=A&c%5B9%5D%5B8%5D=F&c%5B10%5D%5B8%5D=E&c%5B11%5D%5B8%5D=T&c%5B12%5D%5B8%5D=Y&c%5B13%5D%5B8%5D=+&c%5B14%5D%5B8%5D=I&c%5B15%5D%5B8%5D=N&c%5B16%5D%5B8%5D=S&c%5B17%5D%5B8%5D=P&c%5B18%5D%5B8%5D=E&c%5B19%5D%5B8%5D=C&c%5B20%5D%5B8%5D=T&c%5B21%5D%5B8%5D=O&c%5B22%5D%5B8%5D=R&c%5B0%5D%5B9%5D=A&c%5B11%5D%5B9%5D=O&c%5B0%5D%5B10%5D=U&c%5B2%5D%5B10%5D=I&c%5B3%5D%5B10%5D=N&c%5B4%5D%5B10%5D=D&c%5B5%5D%5B10%5D=I&c%5B6%5D%5B10%5D=F&c%5B7%5D%5B10%5D=F&c%5B8%5D%5B10%5D=E&c%5B9%5D%5B10%5D=R&c%5B10%5D%5B10%5D=E&c%5B11%5D%5B10%5D=N&c%5B12%5D%5B10%5D=C&c%5B13%5D%5B10%5D=E&c%5B14%5D%5B10%5D=+&c%5B15%5D%5B10%5D=E&c%5B16%5D%5B10%5D=N&c%5B17%5D%5B10%5D=G&c%5B18%5D%5B10%5D=I&c%5B19%5D%5B10%5D=N&c%5B20%5D%5B10%5D=E&c%5B0%5D%5B11%5D=R&c%5B11%5D%5B11%5D=I&c%5B2%5D%5B12%5D=S&c%5B3%5D%5B12%5D=U&c%5B4%5D%5B12%5D=P&c%5B5%5D%5B12%5D=E&c%5B6%5D%5B12%5D=R&c%5B7%5D%5B12%5D=S&c%5B8%5D%5B12%5D=O&c%5B9%5D%5B12%5D=N&c%5B10%5D%5B12%5D=I&c%5B11%5D%5B12%5D=C&c%5B12%5D%5B12%5D=+&c%5B13%5D%5B12%5D=H&c%5B14%5D%5B12%5D=E&c%5B15%5D%5B12%5D=D&c%5B16%5D%5B12%5D=G&c%5B17%5D%5B12%5D=E&c%5B18%5D%5B12%5D=H&c%5B19%5D%5B12%5D=O&c%5B20%5D%5B12%5D=G&commit=Submit+solution\n"
          ],
          "name": "stdout"
        },
        {
          "output_type": "execute_result",
          "data": {
            "text/plain": [
              "<mechanicalsoup.form.Form at 0x7faf1f6b6c18>"
            ]
          },
          "metadata": {
            "tags": []
          },
          "execution_count": 167
        }
      ]
    },
    {
      "cell_type": "code",
      "metadata": {
        "id": "kypZ9CpqJsxj",
        "colab_type": "code",
        "colab": {}
      },
      "source": [
        "for positions in list_of_unfilled_letter_positions:\n",
        "  if positions[0] == 0:\n",
        "    browser[positions[3]] = across_solution[positions[1]][positions[2]-1]\n",
        "  if positions[0] == 1:\n",
        "    browser[positions[3]] = down_solution[positions[1]][positions[2]-1]"
      ],
      "execution_count": 164,
      "outputs": []
    },
    {
      "cell_type": "code",
      "metadata": {
        "id": "eIhMiW-XqZkp",
        "colab_type": "code",
        "colab": {}
      },
      "source": [
        "response = browser.submit_selected()"
      ],
      "execution_count": 165,
      "outputs": []
    },
    {
      "cell_type": "code",
      "metadata": {
        "id": "Si1O2hXkGU34",
        "colab_type": "code",
        "colab": {}
      },
      "source": [
        "print(response.text)"
      ],
      "execution_count": null,
      "outputs": []
    },
    {
      "cell_type": "code",
      "metadata": {
        "id": "5-qo2OksHWYP",
        "colab_type": "code",
        "colab": {}
      },
      "source": [
        "git "
      ],
      "execution_count": null,
      "outputs": []
    }
  ]
}