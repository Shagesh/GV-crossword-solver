{
  "nbformat": 4,
  "nbformat_minor": 0,
  "metadata": {
    "colab": {
      "provenance": []
    },
    "kernelspec": {
      "name": "python3",
      "display_name": "Python 3"
    }
  },
  "cells": [
    {
      "cell_type": "code",
      "metadata": {
        "id": "ps7KMpRl26Jj"
      },
      "source": [
        "from bs4 import BeautifulSoup\n",
        "from urllib.request import urlopen\n",
        "import functools\n",
        "import numpy as np\n",
        "import mechanicalsoup"
      ],
      "execution_count": 1,
      "outputs": []
    },
    {
      "cell_type": "code",
      "metadata": {
        "id": "BwPpUYe_EkP5",
        "colab": {
          "base_uri": "https://localhost:8080/"
        },
        "outputId": "6f86c6b6-bf92-428f-9b51-c7a2952ab65c"
      },
      "source": [
        "# Login to Godville and navigate to the crossword page\n",
        "browser = mechanicalsoup.StatefulBrowser()\n",
        "browser.open(\"https://godvillegame.com/\")\n",
        "browser.select_form('form[action=\"/login/login\"]')\n",
        "browser[\"username\"] = \"W2t2UcMEYRUDCav\"\n",
        "browser[\"password\"] = \"W2t2UcMEYRUDCav\"\n",
        "response = browser.submit_selected()\n",
        "browser.follow_link(\"news\")"
      ],
      "execution_count": 2,
      "outputs": [
        {
          "output_type": "execute_result",
          "data": {
            "text/plain": [
              "<Response [200]>"
            ]
          },
          "metadata": {},
          "execution_count": 2
        }
      ]
    },
    {
      "cell_type": "code",
      "metadata": {
        "id": "rKKa_z0UyoMC",
        "colab": {
          "base_uri": "https://localhost:8080/",
          "height": 37
        },
        "outputId": "0d22cd6f-a520-4e0a-a04d-f85322e33f14"
      },
      "source": [
        "browser.get_url()"
      ],
      "execution_count": 3,
      "outputs": [
        {
          "output_type": "execute_result",
          "data": {
            "text/plain": [
              "'https://godvillegame.com/news'"
            ],
            "application/vnd.google.colaboratory.intrinsic+json": {
              "type": "string"
            }
          },
          "metadata": {},
          "execution_count": 3
        }
      ]
    },
    {
      "cell_type": "code",
      "metadata": {
        "id": "hmkGI9j_nta5"
      },
      "source": [
        "soup = browser.get_current_page()\n",
        "\n",
        "html_doc = \"\"\n",
        "#soup = BeautifulSoup(html_doc, 'html.parser')\n",
        "\n",
        "# print(soup.prettify())"
      ],
      "execution_count": 4,
      "outputs": []
    },
    {
      "cell_type": "code",
      "metadata": {
        "id": "hgUZtjwv2uxf"
      },
      "source": [
        "# Initialize variables to store crossword information\n",
        "across_comingup = 0\n",
        "down_comingup = 0\n",
        "word_index_across = []\n",
        "word_index_down = []\n",
        "def read_cross_q(word_index):\n",
        "    \"\"\"\n",
        "    Read the crossword questions from the crossword page and store the corresponding word indices.\n",
        "\n",
        "    Args:\n",
        "    word_index (list): Empty list to store word indices.\n",
        "    \"\"\"\n",
        "    splitted = line.split()\n",
        "    for _ in splitted:\n",
        "        if _.isdigit():\n",
        "            word_index.append(int(_))\n",
        "        else:\n",
        "            pass\n",
        "\n",
        "# Parse the crossword page HTML and extract the word indices and positions of unfilled letters\n",
        "for string in soup.find(\"div\", attrs={\"class\": \"cross_q\"}).stripped_strings:\n",
        "    line = repr(string)\n",
        "    line = line.replace('\\\\t', '')\n",
        "    line = line.replace('\\\\n', ' ')\n",
        "    line = line.replace('&nbsp', ' ')\n",
        "    line = line.replace('.', '')\n",
        "    line = line.replace('\\'', '')\n",
        "    line = line.replace('\\\\xa0', ' ')\n",
        "    if line == \"Across:\":\n",
        "        across_comingup = 1\n",
        "    elif line == \"Down:\":\n",
        "        across_comingup = 0\n",
        "        down_comingup = 1\n",
        "    elif across_comingup:\n",
        "        read_cross_q(word_index_across)\n",
        "    elif down_comingup:\n",
        "        read_cross_q(word_index_down)\n"
      ],
      "execution_count": 5,
      "outputs": []
    },
    {
      "cell_type": "code",
      "metadata": {
        "id": "2WxF_pLauzL4",
        "colab": {
          "base_uri": "https://localhost:8080/"
        },
        "outputId": "0e0672c8-af6e-4924-eb25-add378ffd326"
      },
      "source": [
        "across_words = [[] for i in range(len(word_index_across))]\n",
        "down_words = [[] for i in range(len(word_index_down))]\n",
        "list_of_unfilled_letter_positions = [[]]\n",
        "counter = 0\n",
        "for unknown_letters in soup.find_all(\"input\", attrs={\"autocomplete\":\"off\"}):\n",
        "    try:\n",
        "        line = unknown_letters['aria-label']\n",
        "    except KeyError:\n",
        "        continue\n",
        "    line = line.replace(',', '')\n",
        "    line = line.replace('.', ' .')\n",
        "    splitted = line.split()\n",
        "    # print(splitted)\n",
        "    if (splitted[1] == 'down'):\n",
        "        down_words[word_index_down.index(int(splitted[0]))].append([])\n",
        "        list_of_unfilled_letter_positions[counter].append(1)\n",
        "        list_of_unfilled_letter_positions[counter].append(word_index_down.index(int(splitted[0])))\n",
        "        list_of_unfilled_letter_positions[counter].append(int(splitted[splitted.index('letter') + 1]))\n",
        "        list_of_unfilled_letter_positions[counter].append(unknown_letters['name'])\n",
        "    if (splitted[1] == 'across'):\n",
        "        across_words[word_index_across.index(int(splitted[0]))].append([])\n",
        "        list_of_unfilled_letter_positions[counter].append(0)\n",
        "        list_of_unfilled_letter_positions[counter].append(word_index_across.index(int(splitted[0])))\n",
        "        list_of_unfilled_letter_positions[counter].append(int(splitted[splitted.index('letter') + 1]))\n",
        "        list_of_unfilled_letter_positions[counter].append(unknown_letters['name'])\n",
        "    if '.' in splitted :\n",
        "        shifted_index = splitted.index('.') + 1\n",
        "        counter += 1\n",
        "        list_of_unfilled_letter_positions.append([])\n",
        "        if (splitted[shifted_index + 1] == 'down'):\n",
        "            down_words[word_index_down.index(int(splitted[shifted_index + 0]))].append([])\n",
        "            list_of_unfilled_letter_positions[counter].append(1)\n",
        "            list_of_unfilled_letter_positions[counter].append(word_index_down.index(int(splitted[shifted_index + 0])))\n",
        "            list_of_unfilled_letter_positions[counter].append(int(splitted[splitted[shifted_index:].index('letter') + 1 + shifted_index]))\n",
        "            list_of_unfilled_letter_positions[counter].append(unknown_letters['name'])\n",
        "        if (splitted[shifted_index + 1] == 'across'):\n",
        "            across_words[word_index_across.index(int(splitted[shifted_index + 0]))].append([])\n",
        "            list_of_unfilled_letter_positions[counter].append(0)\n",
        "            list_of_unfilled_letter_positions[counter].append(word_index_across.index(int(splitted[shifted_index + 0])))\n",
        "            list_of_unfilled_letter_positions[counter].append(int(splitted[splitted[shifted_index:].index('letter') + 1 + shifted_index]))\n",
        "            list_of_unfilled_letter_positions[counter].append(unknown_letters['name'])\n",
        "    counter += 1\n",
        "    list_of_unfilled_letter_positions.append([])\n",
        "list_of_unfilled_letter_positions.pop()"
      ],
      "execution_count": 6,
      "outputs": [
        {
          "output_type": "execute_result",
          "data": {
            "text/plain": [
              "[]"
            ]
          },
          "metadata": {},
          "execution_count": 6
        }
      ]
    },
    {
      "cell_type": "code",
      "metadata": {
        "id": "TUjrHqnpp5vd"
      },
      "source": [
        "# Extract the filled letters in the crossword\n",
        "for unknown_letters in soup.find_all(\"div\", attrs={\"class\": \"open\"}):\n",
        "    line = unknown_letters['aria-label']\n",
        "    line = line.replace(',', '')\n",
        "    line = line.replace('.', ' .')\n",
        "    splitted = line.split()\n",
        "    # print(splitted)\n",
        "    if (splitted[1] == 'down'):\n",
        "        down_words[word_index_down.index(int(splitted[0]))].append([])\n",
        "    if (splitted[1] == 'across'):\n",
        "        across_words[word_index_across.index(int(splitted[0]))].append([])\n",
        "    if '.' in splitted :\n",
        "        shifted_index = splitted.index('.') + 1\n",
        "        if (splitted[shifted_index+1] == 'down'):\n",
        "            down_words[word_index_down.index(int(splitted[0 + shifted_index]))].append([])\n",
        "        if (splitted[shifted_index+1] == 'across'):\n",
        "            across_words[word_index_across.index(int(splitted[0 + shifted_index]))].append([])"
      ],
      "execution_count": 7,
      "outputs": []
    },
    {
      "cell_type": "code",
      "metadata": {
        "id": "z9Z_BfSYhpDK"
      },
      "source": [
        "for unknown_letters in soup.find_all(\"div\", attrs={\"class\": \"open\"}):\n",
        "    line = unknown_letters['aria-label']\n",
        "    line = line.replace(',', '')\n",
        "    # line = line.replace('-', '')\n",
        "    splitted = line.split()\n",
        "    # print(splitted)\n",
        "    if splitted[splitted.index(\"letter\") + 1] == splitted[-2]:\n",
        "        if (splitted[1] == 'down'):\n",
        "            down_words[word_index_down.index(int(splitted[0]))][int(splitted[splitted.index(\"letter\") + 1]) - 1] = ' '\n",
        "        elif (splitted[1] == 'across'):\n",
        "            across_words[word_index_across.index(int(splitted[0]))][int(splitted[splitted.index(\"letter\") + 1]) - 1] = ' '\n",
        "    else:\n",
        "        if (splitted[1] == 'down'):\n",
        "            try:\n",
        "                down_words[word_index_down.index(int(splitted[0]))][int(splitted[splitted.index(\"letter\") + 1]) - 1] = splitted[-1]\n",
        "            except ValueError:\n",
        "                down_words[word_index_down.index(int(splitted[0]))][int(splitted[splitted.index(\"letter\") + 1][:-1]) - 1] = splitted[-1]\n",
        "        elif (splitted[1] == 'across'):\n",
        "            across_words[word_index_across.index(int(splitted[0]))][int(splitted[splitted.index(\"letter\") + 1]) - 1] = splitted[-1]"
      ],
      "execution_count": 8,
      "outputs": []
    },
    {
      "cell_type": "code",
      "metadata": {
        "id": "lNK4F-qZom9v"
      },
      "source": [
        "# Get the solution to the crossword from the Omnibus List on the Godville wiki\n",
        "link_solution = urlopen('https://wiki.godvillegame.com/Omnibus_List').read()    \n",
        "soup_solution = BeautifulSoup(link_solution, 'html.parser')\n",
        "\n",
        "#print(soup_solution.prettify())"
      ],
      "execution_count": 9,
      "outputs": []
    },
    {
      "cell_type": "code",
      "metadata": {
        "id": "5-WHfQCDm9Ir",
        "colab": {
          "base_uri": "https://localhost:8080/"
        },
        "outputId": "0e6f6df4-9059-4ebb-80f0-b67497df0e52"
      },
      "source": [
        "# Extract the solutions to the crossword from the Omnibus List\n",
        "across_solution = [[] for i in range(len(word_index_across))]\n",
        "down_solution = [[] for i in range(len(word_index_down))]\n",
        "for i in range(len(across_words)):\n",
        "    l_test = across_words[i]\n",
        "    for string in soup_solution.find_all(\"li\"):\n",
        "        line = list(string.text.upper())\n",
        "        count = np.where([ x == y for x, y in zip(line, l_test) ])[0].size\n",
        "        if count == len(np.where([x != [] for x in l_test])[0]) and len(l_test) == len(line):\n",
        "            print(\"\".join(line))\n",
        "            across_solution[i] = line\n",
        "for i in range(len(down_words)):\n",
        "    l_test = down_words[i]\n",
        "    for string in soup_solution.find_all(\"li\"):\n",
        "        line = list(string.text.upper())\n",
        "        count = np.where([ x == y for x, y in zip(line, l_test) ])[0].size\n",
        "        if count == len(np.where([x != [] for x in l_test])[0]) and len(line) == len(l_test):\n",
        "            print(\"\".join(line))\n",
        "            down_solution[i] = line"
      ],
      "execution_count": 10,
      "outputs": [
        {
          "output_type": "stream",
          "name": "stdout",
          "text": [
            "ASTRAL PROJECTOR\n",
            "SAD PANDA\n",
            "CARJACKAL\n",
            "JERKULES\n"
          ]
        }
      ]
    },
    {
      "cell_type": "code",
      "source": [],
      "metadata": {
        "id": "qfbDvX78bbIy"
      },
      "execution_count": 10,
      "outputs": []
    }
  ]
}